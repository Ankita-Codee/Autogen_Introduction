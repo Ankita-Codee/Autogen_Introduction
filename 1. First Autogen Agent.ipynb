{
 "cells": [
  {
   "cell_type": "markdown",
   "id": "9f92850c",
   "metadata": {},
   "source": [
    "# Autogen Installation\n"
   ]
  },
  {
   "cell_type": "markdown",
   "id": "b1a10e41",
   "metadata": {},
   "source": [
    "1. Create a venv\n",
    "2. Create a requirements.txt\n",
    "3. install autogen-agentchat autogen-core autogen-ext"
   ]
  },
  {
   "cell_type": "markdown",
   "id": "4067dc4c",
   "metadata": {},
   "source": [
    "# First Autogen Agent\n"
   ]
  },
  {
   "cell_type": "code",
   "execution_count": 1,
   "id": "688ca4fa",
   "metadata": {},
   "outputs": [],
   "source": [
    "from autogen_agentchat.agents import AssistantAgent\n",
    "from autogen_ext.models.openai import OpenAIChatCompletionClient\n",
    "from dotenv import load_dotenv\n",
    "import os\n",
    "\n",
    "load_dotenv()\n",
    "\n",
    "api_key = os.getenv('OPENAI_API_KEY')"
   ]
  },
  {
   "cell_type": "markdown",
   "id": "5933fdac",
   "metadata": {},
   "source": [
    "# Connecting to the Model"
   ]
  },
  {
   "cell_type": "code",
   "execution_count": 2,
   "id": "93e8ce47",
   "metadata": {},
   "outputs": [],
   "source": [
    "model_client = OpenAIChatCompletionClient(model='gpt-4o',api_key=api_key)\n"
   ]
  },
  {
   "cell_type": "code",
   "execution_count": 3,
   "id": "7237adda",
   "metadata": {},
   "outputs": [],
   "source": [
    "agent_1 = AssistantAgent(name='my_assistant',model_client=model_client)"
   ]
  },
  {
   "cell_type": "code",
   "execution_count": 4,
   "id": "68fd927d",
   "metadata": {},
   "outputs": [],
   "source": [
    "result = await agent_1.run(task='Tell me something about you?')"
   ]
  },
  {
   "cell_type": "code",
   "execution_count": 5,
   "id": "647be0d9",
   "metadata": {},
   "outputs": [
    {
     "name": "stdout",
     "output_type": "stream",
     "text": [
      "messages=[TextMessage(id='f1549ff4-d450-4ccf-9f44-76812fe6f45b', source='user', models_usage=None, metadata={}, created_at=datetime.datetime(2025, 7, 23, 22, 52, 10, 688016, tzinfo=datetime.timezone.utc), content='Tell me something about you?', type='TextMessage'), TextMessage(id='064c0387-ab70-425a-962a-4ebdf568b776', source='my_assistant', models_usage=RequestUsage(prompt_tokens=42, completion_tokens=93), metadata={}, created_at=datetime.datetime(2025, 7, 23, 22, 52, 13, 679892, tzinfo=datetime.timezone.utc), content=\"I am an AI assistant designed to help users by answering questions, providing information, and completing various tasks using a range of tools. I draw upon a vast amount of knowledge and datasets to perform these functions effectively. As I am not sentient, I do not possess feelings, thoughts, or personal experiences, but I'm here to assist you as best as I can. If there's any specific information or task you would like help with, feel free to let me know!\", type='TextMessage')] stop_reason=None\n"
     ]
    }
   ],
   "source": [
    "print(result)"
   ]
  },
  {
   "cell_type": "code",
   "execution_count": 6,
   "id": "484d9d3f",
   "metadata": {},
   "outputs": [],
   "source": [
    "result2 = await agent_1.run(task='What was my last question?')"
   ]
  },
  {
   "cell_type": "code",
   "execution_count": 9,
   "id": "b213a370",
   "metadata": {},
   "outputs": [
    {
     "data": {
      "text/plain": [
       "TaskResult(messages=[TextMessage(id='1fcf6a02-3917-433a-be91-97bf6a7740e6', source='user', models_usage=None, metadata={}, created_at=datetime.datetime(2025, 7, 12, 2, 16, 11, 991206, tzinfo=datetime.timezone.utc), content='What was my last question?', type='TextMessage'), TextMessage(id='a515c43a-d1bd-423f-83f8-652a93ffcde0', source='my_assistant', models_usage=RequestUsage(prompt_tokens=149, completion_tokens=53), metadata={}, created_at=datetime.datetime(2025, 7, 12, 2, 16, 13, 376071, tzinfo=datetime.timezone.utc), content=\"I'm sorry, but I don't have the ability to remember past interactions or previous questions you've asked. Each interaction with me is independent, and I don't retain any information from prior conversations. If there's anything you'd like to ask or discuss, feel free to let me know!\", type='TextMessage')], stop_reason=None)"
      ]
     },
     "execution_count": 9,
     "metadata": {},
     "output_type": "execute_result"
    }
   ],
   "source": [
    "result2"
   ]
  },
  {
   "cell_type": "markdown",
   "id": "57cb7ba7",
   "metadata": {},
   "source": [
    "# Code"
   ]
  },
  {
   "cell_type": "code",
   "execution_count": 6,
   "id": "4487925d",
   "metadata": {},
   "outputs": [
    {
     "name": "stdout",
     "output_type": "stream",
     "text": [
      "messages=[TextMessage(id='ecbb2870-a613-42e0-b37a-08a405622e75', source='user', models_usage=None, metadata={}, created_at=datetime.datetime(2025, 7, 18, 22, 11, 27, 411808, tzinfo=datetime.timezone.utc), content='What are the possibilities that AI is misused', type='TextMessage'), TextMessage(id='6371aa21-a9c3-4d5b-8ea2-f27d0e984294', source='my_assistant', models_usage=RequestUsage(prompt_tokens=45, completion_tokens=476), metadata={}, created_at=datetime.datetime(2025, 7, 18, 22, 11, 34, 961386, tzinfo=datetime.timezone.utc), content=\"The potential misuse of artificial intelligence (AI) arises from its capacity to amplify human capabilities, both positive and negative. Here are several scenarios where AI could be misused:\\n\\n1. **Surveillance and Privacy Violations**:\\n   - AI-powered surveillance systems can be used to monitor individuals without their consent, leading to privacy infringements and potential abuse by governments or corporations.\\n\\n2. **Deepfakes and Disinformation**:\\n   - AI can generate highly convincing fake videos, audio, or text (deepfakes), which can be used to spread misinformation, manipulate public opinion, or defame individuals.\\n\\n3. **Autonomous Weapons**:\\n   - AI systems can be integrated into military applications, creating autonomous weapons that can make life-and-death decisions without human intervention, raising ethical and accountability issues.\\n\\n4. **Bias and Discrimination**:\\n   - If AI systems are trained on biased data, they can perpetuate or even exacerbate these biases, leading to unfair treatment of individuals based on race, gender, or other characteristics.\\n\\n5. **Cybersecurity Threats**:\\n   - AI can be used to enhance cyberattacks, making them more sophisticated and harder to detect, posing significant risks to data security and privacy.\\n\\n6. **Economic Displacement**:\\n   - AI-driven automation can lead to job displacement, exacerbating economic inequalities and societal tensions if not managed properly.\\n\\n7. **Manipulation and Behavior Control**:\\n   - AI could be used to manipulate consumer behavior or social dynamics in unethical ways, such as through targeted advertising or nudging, without the users' awareness.\\n\\n8. **Intellectual Property Theft**:\\n   - AI algorithms can be used to clone or steal protected intellectual properties like patented algorithms or proprietary databases.\\n\\n9. **Fraud and Identity Theft**:\\n   - AI can be employed to create sophisticated phishing schemes or to generate fake identities, complicating fraud detection.\\n\\n10. **Addiction and Mental Health Issues**:\\n    - AI algorithms, particularly in social media, can be designed to maximize user engagement at the expense of mental well-being, leading to addiction or mental health struggles.\\n\\nPreventing the misuse of AI involves implementing robust ethical guidelines, regulatory frameworks, and oversight mechanisms to ensure that AI technologies are developed and deployed responsibly. It also requires transparency, accountability, and a multidisciplinary approach to address the complexities involved. \\n\\nTERMINATE\", type='TextMessage')] stop_reason=None\n"
     ]
    }
   ],
   "source": [
    "from autogen_agentchat.agents import AssistantAgent\n",
    "from autogen_ext.models.openai import OpenAIChatCompletionClient\n",
    "from dotenv import load_dotenv\n",
    "import os\n",
    "\n",
    "# Load API Key\n",
    "load_dotenv()\n",
    "api_key = os.getenv('OPENAI_API_KEY')\n",
    "\n",
    "# Connect to GPT-4o\n",
    "model_client = OpenAIChatCompletionClient(\n",
    "    model='gpt-4o',\n",
    "    api_key=api_key\n",
    ")\n",
    "\n",
    "# Create Agent\n",
    "agent_1 = AssistantAgent(\n",
    "    name='my_assistant',\n",
    "    model_client=model_client\n",
    ")\n",
    "\n",
    "# Run Tasks\n",
    "result = await agent_1.run(task='What are the possibilities that AI is misused')\n",
    "print(result)\n"
   ]
  },
  {
   "cell_type": "markdown",
   "id": "17cc0b49",
   "metadata": {},
   "source": [
    "messages=[TextMessage(id='ecbb2870-a613-42e0-b37a-08a405622e75', source='user', models_usage=None, metadata={}, created_at=datetime.datetime(2025, 7, 18, 22, 11, 27, 411808, tzinfo=datetime.timezone.utc), content='What are the possibilities that AI is misused', type='TextMessage'), TextMessage(id='6371aa21-a9c3-4d5b-8ea2-f27d0e984294', source='my_assistant', models_usage=RequestUsage(prompt_tokens=45, completion_tokens=476), metadata={}, created_at=datetime.datetime(2025, 7, 18, 22, 11, 34, 961386, tzinfo=datetime.timezone.utc), \n",
    "\n",
    "content=\"The potential misuse of artificial intelligence (AI) arises from its capacity to amplify human capabilities, both positive and negative. Here are several scenarios where AI could be misused:\\n\\n1. **Surveillance and Privacy Violations**:\\n   - AI-powered surveillance systems can be used to monitor individuals without their consent, leading to privacy infringements and potential abuse by governments or corporations.\\n\\n2. **Deepfakes and Disinformation**:\\n   - AI can generate highly convincing fake videos, audio, or text (deepfakes), which can be used to spread misinformation, manipulate public opinion, or defame individuals.\\n\\n3. **Autonomous Weapons**:\\n   - AI systems can be integrated into military applications, creating autonomous weapons that can make life-and-death decisions without human intervention, raising ethical and accountability issues.\\n\\n4. **Bias and Discrimination**:\\n   - If AI systems are trained on biased data, they can perpetuate or even exacerbate these biases, leading to unfair treatment of individuals based on race, gender, or other characteristics.\\n\\n5. **Cybersecurity Threats**:\\n   - AI can be used to enhance cyberattacks, making them more sophisticated and harder to detect, posing significant risks to data security and privacy.\\n\\n6. **Economic Displacement**:\\n   - AI-driven automation can lead to job displacement, exacerbating economic inequalities and societal tensions if not managed properly.\\n\\n7. **Manipulation and Behavior Control**:\\n   - AI could be used to manipulate consumer behavior or social dynamics in unethical ways, such as through targeted advertising or nudging, without the users' awareness.\\n\\n8. **Intellectual Property Theft**:\\n   - AI algorithms can be used to clone or steal protected intellectual properties like patented algorithms or proprietary databases.\\n\\n9. **Fraud and Identity Theft**:\\n   - AI can be employed to create sophisticated phishing schemes or to generate fake identities, complicating fraud detection.\\n\\n10. **Addiction and Mental Health Issues**:\\n    - AI algorithms, particularly in social media, can be designed to maximize user engagement at the expense of mental well-being, leading to addiction or mental health struggles.\\n\\nPreventing the misuse of AI involves implementing robust ethical guidelines, regulatory frameworks, and oversight mechanisms to ensure that AI technologies are developed and deployed responsibly. It also requires transparency, accountability, and a multidisciplinary approach to address the complexities involved. \\n\\nTERMINATE\", type='TextMessage')] stop_reason=None"
   ]
  }
 ],
 "metadata": {
  "kernelspec": {
   "display_name": "Python 3",
   "language": "python",
   "name": "python3"
  },
  "language_info": {
   "codemirror_mode": {
    "name": "ipython",
    "version": 3
   },
   "file_extension": ".py",
   "mimetype": "text/x-python",
   "name": "python",
   "nbconvert_exporter": "python",
   "pygments_lexer": "ipython3",
   "version": "3.11.13"
  }
 },
 "nbformat": 4,
 "nbformat_minor": 5
}
